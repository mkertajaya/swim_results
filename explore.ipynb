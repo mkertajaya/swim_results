{
 "cells": [
  {
   "cell_type": "code",
   "execution_count": 117,
   "source": [
    "import os\r\n",
    "import requests\r\n",
    "import csv\r\n",
    "import pandas as pd"
   ],
   "outputs": [],
   "metadata": {}
  },
  {
   "cell_type": "code",
   "execution_count": 118,
   "source": [
    "#change these\r\n",
    "filename = \"21-202rw\"\r\n",
    "html_ = f\"{filename}.html\"\r\n",
    "csv_ =  f\"{filename}.csv\"\r\n",
    "meet = \"2021 PV Maryland State LC Championship - 6/4/2021 to 6/6/2021\""
   ],
   "outputs": [],
   "metadata": {}
  },
  {
   "cell_type": "code",
   "execution_count": 119,
   "source": [
    "# Path\r\n",
    "data_folder = \"data\"\r\n",
    " \r\n",
    "# Join various path components\r\n",
    "html_file = os.path.join(data_folder, html_)\r\n",
    "print(html_file)"
   ],
   "outputs": [
    {
     "output_type": "stream",
     "name": "stdout",
     "text": [
      "data\\21-202rw.html\n"
     ]
    }
   ],
   "metadata": {}
  },
  {
   "cell_type": "code",
   "execution_count": 120,
   "source": [
    "#Creating an output file in writing mode\r\n",
    "csv_file = os.path.join(data_folder,csv_)\r\n",
    "\r\n",
    "#csv header\r\n",
    "header = [\"meet\", \"event\", \"rank\", \"name\", \"age\", \"team\", \"seed\", \"finals\"]\r\n",
    "#assign 'delete' event for delition later\r\n",
    "event = \"delete\"\r\n",
    "\r\n",
    "with open(csv_file, 'w', encoding='UTF8') as f:\r\n",
    "    #create a writer\r\n",
    "    writer = csv.writer(f, delimiter = \"|\")\r\n",
    "    # write the header\r\n",
    "    writer.writerow(header)\r\n",
    "    #iterate html\r\n",
    "    with open(html_file, \"r\") as line:\r\n",
    "        line_string = line.readlines()\r\n",
    "        #this will assign event column\r\n",
    "        for each_line in line_string:\r\n",
    "            if each_line[0:2] == \"<b\":\r\n",
    "                event = each_line.replace(\"<b>\", \"\")\\\r\n",
    "                                 .replace(\"</b>\", \"\")\\\r\n",
    "                                 .replace(\"&amp;\", \"&\")\\\r\n",
    "                                 .replace(\"\\n\", \" \")\\\r\n",
    "                                 .rstrip()\r\n",
    "            else:\r\n",
    "                #assign each column and strip right spaces\r\n",
    "                rank = each_line[0:4].replace(\" \", \"\").replace(\"=\", \"\").rstrip()\r\n",
    "                name = each_line[4:29].rstrip()\r\n",
    "                age = each_line[28:33].replace(\" \",\"\").rstrip()\r\n",
    "                team = each_line[33:50].replace(\" \",\"\").rstrip()\r\n",
    "                seed = each_line[51:65].replace(\" \",\"\").rstrip()\r\n",
    "                finals = each_line[61:80].replace(\" \",\"\").rstrip()\r\n",
    "                #this will not write uncessary rows\r\n",
    "                if rank != \"\" and event != 'delete'\\\r\n",
    "                   and seed != \"\" and finals != \"\":\r\n",
    "                    writer.writerow([meet, event, rank, name, age, team, seed, finals])\r\n",
    "\r\n"
   ],
   "outputs": [],
   "metadata": {}
  },
  {
   "cell_type": "code",
   "execution_count": 121,
   "source": [
    "#read csv to data frame\r\n",
    "df = pd.read_csv(csv_file, sep=\"|\"  , engine=\"python\")"
   ],
   "outputs": [],
   "metadata": {}
  },
  {
   "cell_type": "code",
   "execution_count": 122,
   "source": [
    "#filtering examples\r\n",
    "filt = (df[\"name\"] == \"Kertajaya, Evelyn\") &  (df[\"rank\"] == \"12\")"
   ],
   "outputs": [],
   "metadata": {}
  },
  {
   "cell_type": "code",
   "execution_count": 123,
   "source": [
    "#get data\r\n",
    "df[filt]"
   ],
   "outputs": [
    {
     "output_type": "execute_result",
     "data": {
      "text/html": [
       "<div>\n",
       "<style scoped>\n",
       "    .dataframe tbody tr th:only-of-type {\n",
       "        vertical-align: middle;\n",
       "    }\n",
       "\n",
       "    .dataframe tbody tr th {\n",
       "        vertical-align: top;\n",
       "    }\n",
       "\n",
       "    .dataframe thead th {\n",
       "        text-align: right;\n",
       "    }\n",
       "</style>\n",
       "<table border=\"1\" class=\"dataframe\">\n",
       "  <thead>\n",
       "    <tr style=\"text-align: right;\">\n",
       "      <th></th>\n",
       "      <th>meet</th>\n",
       "      <th>event</th>\n",
       "      <th>rank</th>\n",
       "      <th>name</th>\n",
       "      <th>age</th>\n",
       "      <th>team</th>\n",
       "      <th>seed</th>\n",
       "      <th>finals</th>\n",
       "    </tr>\n",
       "  </thead>\n",
       "  <tbody>\n",
       "    <tr>\n",
       "      <th>326</th>\n",
       "      <td>2021 PV Maryland State LC Championship - 6/4/2...</td>\n",
       "      <td>Girls 11-12 50 LC Meter Breaststroke</td>\n",
       "      <td>12</td>\n",
       "      <td>Kertajaya, Evelyn</td>\n",
       "      <td>12</td>\n",
       "      <td>RMSC!-PV</td>\n",
       "      <td>43.68</td>\n",
       "      <td>42.75</td>\n",
       "    </tr>\n",
       "  </tbody>\n",
       "</table>\n",
       "</div>"
      ],
      "text/plain": [
       "                                                  meet  \\\n",
       "326  2021 PV Maryland State LC Championship - 6/4/2...   \n",
       "\n",
       "                                    event rank               name  age  \\\n",
       "326  Girls 11-12 50 LC Meter Breaststroke   12  Kertajaya, Evelyn   12   \n",
       "\n",
       "         team   seed finals  \n",
       "326  RMSC!-PV  43.68  42.75  "
      ]
     },
     "metadata": {},
     "execution_count": 123
    }
   ],
   "metadata": {}
  },
  {
   "cell_type": "code",
   "execution_count": 124,
   "source": [
    "df.info()"
   ],
   "outputs": [
    {
     "output_type": "stream",
     "name": "stdout",
     "text": [
      "<class 'pandas.core.frame.DataFrame'>\n",
      "RangeIndex: 1151 entries, 0 to 1150\n",
      "Data columns (total 8 columns):\n",
      " #   Column  Non-Null Count  Dtype \n",
      "---  ------  --------------  ----- \n",
      " 0   meet    1151 non-null   object\n",
      " 1   event   1151 non-null   object\n",
      " 2   rank    1151 non-null   object\n",
      " 3   name    1151 non-null   object\n",
      " 4   age     1151 non-null   int64 \n",
      " 5   team    1151 non-null   object\n",
      " 6   seed    1151 non-null   object\n",
      " 7   finals  1151 non-null   object\n",
      "dtypes: int64(1), object(7)\n",
      "memory usage: 72.1+ KB\n"
     ]
    }
   ],
   "metadata": {}
  },
  {
   "cell_type": "code",
   "execution_count": 125,
   "source": [
    "# with open(html_file, \"r\") as line:\r\n",
    "#    line_string = line.readlines()\r\n",
    "#    for each_line in line_string:\r\n",
    "#       print(each_line[0:30])"
   ],
   "outputs": [],
   "metadata": {}
  },
  {
   "cell_type": "code",
   "execution_count": 126,
   "source": [
    "# from bs4 import BeautifulSoup\r\n",
    "# # Opening the html file\r\n",
    "# with open(html_file) as fp:\r\n",
    "#     soup = BeautifulSoup(fp, \"html.parser\")"
   ],
   "outputs": [],
   "metadata": {}
  },
  {
   "cell_type": "code",
   "execution_count": 127,
   "source": [
    "# #get all events and create a list\r\n",
    "# event_list = []\r\n",
    "# events = soup.find_all(\"b\")\r\n",
    "# for event in events:\r\n",
    "#     #(type(event.text))\r\n",
    "#     event = event.text.replace(\"<b>\", \"\").replace(\"</b>\", \"\")\r\n",
    "#     event_list.append(event)\r\n",
    "\r\n"
   ],
   "outputs": [],
   "metadata": {}
  },
  {
   "cell_type": "code",
   "execution_count": 128,
   "source": [
    "# string = \"  1 Mostofi, Addison B        14 ASA-PV               4:46.41    4:45.45  \""
   ],
   "outputs": [],
   "metadata": {}
  },
  {
   "cell_type": "code",
   "execution_count": 129,
   "source": [
    "# name = string[0:30]\r\n",
    "# print(name)\r\n",
    "\r\n",
    "# age = string[29:33].replace(\" \",\"\")\r\n",
    "# print(age)\r\n",
    "\r\n",
    "# team = string[33:50].replace(\" \",\"\")\r\n",
    "# print(team)\r\n",
    "\r\n",
    "# seed = string[51:65].replace(\" \",\"\")\r\n",
    "# print(seed)\r\n",
    "\r\n",
    "# finals = string[61:80].replace(\" \",\"\")\r\n",
    "# print(finals)\r\n"
   ],
   "outputs": [],
   "metadata": {}
  },
  {
   "cell_type": "code",
   "execution_count": null,
   "source": [],
   "outputs": [],
   "metadata": {}
  }
 ],
 "metadata": {
  "orig_nbformat": 4,
  "language_info": {
   "name": "python",
   "version": "3.8.8",
   "mimetype": "text/x-python",
   "codemirror_mode": {
    "name": "ipython",
    "version": 3
   },
   "pygments_lexer": "ipython3",
   "nbconvert_exporter": "python",
   "file_extension": ".py"
  },
  "kernelspec": {
   "name": "python3",
   "display_name": "Python 3.8.8 64-bit ('base': conda)"
  },
  "interpreter": {
   "hash": "b3ba2566441a7c06988d0923437866b63cedc61552a5af99d1f4fb67d367b25f"
  }
 },
 "nbformat": 4,
 "nbformat_minor": 2
}