{
 "cells": [
  {
   "cell_type": "code",
   "execution_count": null,
   "source": [
    "import os\r\n",
    "import requests\r\n",
    "import csv\r\n",
    "import linecache\r\n",
    "import numpy as np\r\n",
    "import pandas as pd"
   ],
   "outputs": [],
   "metadata": {}
  },
  {
   "cell_type": "code",
   "execution_count": null,
   "source": [
    "#change these\r\n",
    "filename = \"20-71rx\"\r\n",
    "html_ = f\"{filename}.html\"\r\n",
    "csv_ =  f\"{filename}.csv\"\r\n"
   ],
   "outputs": [],
   "metadata": {}
  },
  {
   "cell_type": "code",
   "execution_count": null,
   "source": [
    "# Path\r\n",
    "data_folder = \"data\"\r\n",
    " \r\n",
    "# Join various path components\r\n",
    "html_file = os.path.join(data_folder, html_)\r\n",
    "print(html_file)"
   ],
   "outputs": [],
   "metadata": {}
  },
  {
   "cell_type": "code",
   "execution_count": null,
   "source": [
    "#get meet name, usually on line 6, print to doublecheck\r\n",
    "meet = linecache.getline(html_file, 6).strip()\r\n",
    "print(meet)"
   ],
   "outputs": [],
   "metadata": {}
  },
  {
   "cell_type": "code",
   "execution_count": null,
   "source": [
    "#Creating an output file in writing mode\r\n",
    "csv_file = os.path.join(data_folder,csv_)\r\n",
    "\r\n",
    "#csv header\r\n",
    "header = [\"meet\", \"event\", \"rank\", \"name\", \"age\", \"team\", \"seed\", \"finals\"]\r\n",
    "#assign 'delete' event for delition later\r\n",
    "event = \"delete\"\r\n",
    "\r\n",
    "with open(csv_file, 'w', encoding='UTF8') as f:\r\n",
    "    #create a writer\r\n",
    "    writer = csv.writer(f, delimiter = \"|\")\r\n",
    "    # write the header\r\n",
    "    writer.writerow(header)\r\n",
    "    #iterate html\r\n",
    "    with open(html_file, \"r\") as line:\r\n",
    "        line_string = line.readlines()\r\n",
    "        #this will assign event column\r\n",
    "        for each_line in line_string:\r\n",
    "            if each_line[0:2] == \"<b\":\r\n",
    "                event = each_line.replace(\"<b>\", \"\")\\\r\n",
    "                                 .replace(\"</b>\", \"\")\\\r\n",
    "                                 .replace(\"&amp;\", \"&\")\\\r\n",
    "                                 .replace(\"\\n\", \" \")\\\r\n",
    "                                 .rstrip()\r\n",
    "            else:\r\n",
    "                #assign each column and strip right spaces\r\n",
    "                rank = each_line[0:4].replace(\" \", \"\").replace(\"=\", \"\").rstrip()\r\n",
    "                name = each_line[4:29].rstrip()\r\n",
    "                age = each_line[28:33].replace(\" \",\"\").rstrip()\r\n",
    "                team = each_line[33:50].replace(\" \",\"\").rstrip()\r\n",
    "                seed = each_line[51:65].replace(\" \",\"\").rstrip()\r\n",
    "                finals = each_line[61:80].replace(\" \",\"\").rstrip()\r\n",
    "                #this will not write uncessary rows\r\n",
    "                if rank != \"\" and event != 'delete'\\\r\n",
    "                   and seed != \"\" and finals != \"\":\r\n",
    "                    writer.writerow([meet, event, rank, name, age, team, seed, finals])\r\n",
    "\r\n"
   ],
   "outputs": [],
   "metadata": {}
  },
  {
   "cell_type": "code",
   "execution_count": null,
   "source": [
    "#read csv to data frame\r\n",
    "df = pd.read_csv(csv_file, sep=\"|\"  , engine=\"python\")"
   ],
   "outputs": [],
   "metadata": {}
  },
  {
   "cell_type": "code",
   "execution_count": null,
   "source": [
    "#filtering examples\r\n",
    "filt = (df[\"name\"] == \"lname, fname\") #&  (df[\"rank\"] == \"12\")\r\n",
    "#get data\r\n",
    "df[filt]"
   ],
   "outputs": [],
   "metadata": {}
  },
  {
   "cell_type": "code",
   "execution_count": null,
   "source": [
    "#this cell is cleaning up seed and finals time\r\n",
    "\r\n",
    "#filter NT from final\r\n",
    "filt_NT = (df[\"seed\"] == \"NT\")\r\n",
    "#update dq to 00.00\r\n",
    "df[\"seed\"][filt_NT] = \"00.00\"\r\n",
    "\r\n",
    "#filter DQ from final\r\n",
    "filt_DQ = (df[\"finals\"] == \"DQ\")\r\n",
    "#update dq to 00.00\r\n",
    "df[\"finals\"][filt_DQ] = \"00.00\""
   ],
   "outputs": [],
   "metadata": {}
  },
  {
   "cell_type": "code",
   "execution_count": null,
   "source": [
    "df[\"seed\"].head()"
   ],
   "outputs": [],
   "metadata": {}
  },
  {
   "cell_type": "code",
   "execution_count": null,
   "source": [
    "#craete function to convert time string to float\r\n",
    "def f_totime(i):\r\n",
    "    #find minute indicator\r\n",
    "    minute_ind = i.find(':')\r\n",
    "    if (minute_ind != -1):\r\n",
    "        i = float(i[0:minute_ind]) * 60 + float(i[minute_ind:].replace(\":\", \"\"))\r\n",
    "        return i\r\n",
    "    else:\r\n",
    "        return i\r\n",
    "\r\n",
    "# #testing fuction\r\n",
    "# i = \"10:29.05\"\r\n",
    "\r\n",
    "# result = f_totime(i)\r\n",
    "# print(result)"
   ],
   "outputs": [],
   "metadata": {}
  },
  {
   "cell_type": "code",
   "execution_count": null,
   "source": [
    "#create new column from seed\r\n",
    "df[\"seed_time\"] = df.apply(lambda row: f_totime(row[\"seed\"]),axis=1)\r\n",
    "#create new column from final\r\n",
    "df[\"finals_time\"] = df.apply(lambda row: f_totime(row[\"finals\"]),axis=1)"
   ],
   "outputs": [],
   "metadata": {}
  },
  {
   "cell_type": "code",
   "execution_count": null,
   "source": [
    "#change data type for seed time and final time\r\n",
    "df[\"finals_time\"] = df[\"finals_time\"].astype(np.float16)\r\n",
    "\r\n",
    "df[\"seed_time\"] = df[\"seed_time\"].astype(np.float16)\r\n",
    "\r\n",
    "#create delta column\r\n",
    "df[\"delta\"] = df[\"finals_time\"] - df[\"seed_time\"]\r\n"
   ],
   "outputs": [],
   "metadata": {}
  },
  {
   "cell_type": "code",
   "execution_count": null,
   "source": [
    "#function converting delta gain/drop/same\r\n",
    "def f_gain_drop(i):\r\n",
    "    if i < 0:\r\n",
    "        return \"Gain\"\r\n",
    "    elif i > 0:\r\n",
    "        return \"Drop\"\r\n",
    "    else:\r\n",
    "        return \"Same\""
   ],
   "outputs": [],
   "metadata": {}
  },
  {
   "cell_type": "code",
   "execution_count": null,
   "source": [
    "#create new column for drop/gain/same\r\n",
    "df[\"gain_drop_same\"] = df.apply(lambda row: f_gain_drop(row[\"delta\"]),axis=1)\r\n",
    "\r\n",
    "df.head()"
   ],
   "outputs": [],
   "metadata": {}
  }
 ],
 "metadata": {
  "orig_nbformat": 4,
  "language_info": {
   "name": "python",
   "version": "3.8.8",
   "mimetype": "text/x-python",
   "codemirror_mode": {
    "name": "ipython",
    "version": 3
   },
   "pygments_lexer": "ipython3",
   "nbconvert_exporter": "python",
   "file_extension": ".py"
  },
  "kernelspec": {
   "name": "python3",
   "display_name": "Python 3.8.8 64-bit"
  },
  "interpreter": {
   "hash": "b3ba2566441a7c06988d0923437866b63cedc61552a5af99d1f4fb67d367b25f"
  }
 },
 "nbformat": 4,
 "nbformat_minor": 2
}