{
 "cells": [
  {
   "cell_type": "code",
   "execution_count": 28,
   "metadata": {},
   "outputs": [],
   "source": [
    "import os\n",
    "import requests\n",
    "import csv\n",
    "import linecache\n",
    "import numpy as np\n",
    "import pandas as pd"
   ]
  },
  {
   "cell_type": "code",
   "execution_count": 29,
   "metadata": {},
   "outputs": [],
   "source": [
    "#change these\n",
    "filename = \"22-08rw\"\n",
    "html_ = f\"{filename}.html\"\n",
    "csv_ =  f\"{filename}.csv\"\n"
   ]
  },
  {
   "cell_type": "code",
   "execution_count": 30,
   "metadata": {},
   "outputs": [
    {
     "name": "stdout",
     "output_type": "stream",
     "text": [
      "data\\22-08rw.html\n"
     ]
    }
   ],
   "source": [
    "# Path\n",
    "data_folder = \"data\"\n",
    " \n",
    "# Join various path components\n",
    "html_file = os.path.join(data_folder, html_)\n",
    "print(html_file)"
   ]
  },
  {
   "cell_type": "code",
   "execution_count": 31,
   "metadata": {},
   "outputs": [
    {
     "name": "stdout",
     "output_type": "stream",
     "text": [
      "2021 PV RMSC October Kick-Off Classic - 10/15/2021 to 10/17/2021\n"
     ]
    }
   ],
   "source": [
    "#get meet name, usually on line 6, print to doublecheck\n",
    "meet = linecache.getline(html_file, 6).strip()\n",
    "print(meet)"
   ]
  },
  {
   "cell_type": "code",
   "execution_count": 32,
   "metadata": {},
   "outputs": [
    {
     "name": "stdout",
     "output_type": "stream",
     "text": [
      "Boys\n"
     ]
    }
   ],
   "source": [
    "# #male or female to be added to the csv\n",
    "# #not needed anymore as we pull this from event\n",
    "# if filename[-1] == \"m\":\n",
    "#     gender = \"man\"\n",
    "# elif filename[-1] == \"w\":\n",
    "#     gender = \"woman\"\n",
    "# else: \"unknown\"\n",
    "\n",
    "print(gender)"
   ]
  },
  {
   "cell_type": "code",
   "execution_count": 33,
   "metadata": {},
   "outputs": [],
   "source": [
    "# event = \"Girls 13 Over 50 Yard Freestyle\"\n",
    "# temp_string = event.replace(\" Over\", \"Over\").split(\" \")\n",
    "# gender = temp_string[0]\n",
    "# age_group = temp_string[1]\n",
    "# distance = temp_string[2]\n",
    "# scy_lcy = temp_string[3]\n",
    "# stroke = temp_string[-1]\n",
    "# print(temp_string)"
   ]
  },
  {
   "cell_type": "code",
   "execution_count": 34,
   "metadata": {},
   "outputs": [],
   "source": [
    "#Creating an output file in writing mode\n",
    "csv_file = os.path.join(data_folder,csv_)\n",
    "\n",
    "#csv header\n",
    "header = [\"meet\", \"event\", \"gender\", \"age_group\", \"distance\", \"scy_lcy\", \"stroke\",\"rank\", \"name\", \"age\", \"team\", \"seed\", \"finals\"]\n",
    "#assign 'delete' event for delition later\n",
    "event = \"delete\"\n",
    "\n",
    "with open(csv_file, 'w', encoding='UTF8') as f:\n",
    "    #create a writer\n",
    "    writer = csv.writer(f, delimiter = \"|\")\n",
    "    # write the header\n",
    "    writer.writerow(header)\n",
    "    #iterate html\n",
    "    with open(html_file, \"r\") as line:\n",
    "        line_string = line.readlines()\n",
    "        #this will assign event column\n",
    "        for each_line in line_string:\n",
    "            if each_line[0:2] == \"<b\":\n",
    "                event = each_line.replace(\"<b>\", \"\")\\\n",
    "                                 .replace(\"</b>\", \"\")\\\n",
    "                                 .replace(\"&amp;\", \"&\")\\\n",
    "                                 .replace(\"\\n\", \" \")\\\n",
    "                                 .rstrip()\n",
    "                #temp_string converts event to string\n",
    "                #replacing space in 13 and over to standardize list length\n",
    "                temp_string = event.replace(\" Over\", \"Over\").split(\" \")\n",
    "                gender = temp_string[0]\n",
    "                age_group = temp_string[1]\n",
    "                distance = temp_string[2]\n",
    "                scy_lcy = temp_string[3]\n",
    "                stroke = temp_string[-1]\n",
    "            else:\n",
    "                #assign each column and strip right spaces\n",
    "                rank = each_line[0:4].replace(\" \", \"\").replace(\"=\", \"\").rstrip()\n",
    "                name = each_line[4:29].rstrip()\n",
    "                age = each_line[28:33].replace(\" \",\"\").rstrip()\n",
    "                team = each_line[33:50].replace(\" \",\"\").rstrip()\n",
    "                #replacing NT to very high number\n",
    "                #also replacing DQ qith very low number\n",
    "                seed = each_line[51:65].replace(\" \",\"\").replace(\"X\",\"\").\\\n",
    "                    replace(\"NT\",\"10000.00\").replace(\"DQ\",\"00.00\").rstrip()\n",
    "                finals = each_line[61:80].replace(\" \",\"\").replace(\"X\",\"\").\\\n",
    "                    replace(\"NT\",\"10000.00\").replace(\"DQ\",\"00.00\").rstrip()\n",
    "                #this will not write uncessary rows\n",
    "                if rank != \"\" and event != 'delete'\\\n",
    "                   and seed != \"\" and finals != \"\":\n",
    "                    writer.writerow([meet, event, gender, age_group, distance, scy_lcy, stroke, rank, name, age, team, seed, finals])\n",
    "\n"
   ]
  },
  {
   "cell_type": "code",
   "execution_count": 35,
   "metadata": {},
   "outputs": [],
   "source": [
    "#read csv to data frame\n",
    "df = pd.read_csv(csv_file, sep=\"|\"  , engine=\"python\")"
   ]
  },
  {
   "cell_type": "code",
   "execution_count": 36,
   "metadata": {},
   "outputs": [],
   "source": [
    "#craete function to convert time string to float\n",
    "def f_totime(i):\n",
    "    #find minute indicator\n",
    "    minute_ind = i.find(':')\n",
    "    if (minute_ind != -1):\n",
    "        i = float(i[0:minute_ind]) * 60 + float(i[minute_ind:].replace(\":\", \"\"))\n",
    "        return i\n",
    "    else:\n",
    "        return i"
   ]
  },
  {
   "cell_type": "code",
   "execution_count": 37,
   "metadata": {},
   "outputs": [],
   "source": [
    "#create new column from seed\n",
    "df[\"seed_time\"] = df.apply(lambda row: f_totime(row[\"seed\"]),axis=1)\n",
    "#create new column from final\n",
    "df[\"finals_time\"] = df.apply(lambda row: f_totime(row[\"finals\"]),axis=1)"
   ]
  },
  {
   "cell_type": "code",
   "execution_count": 38,
   "metadata": {},
   "outputs": [],
   "source": [
    "#change data type for seed time and final time\n",
    "df[\"finals_time\"] = df[\"finals_time\"].astype(np.float16)\n",
    "\n",
    "df[\"seed_time\"] = df[\"seed_time\"].astype(np.float16)\n",
    "\n",
    "#create delta column\n",
    "df[\"delta\"] = df[\"finals_time\"] - df[\"seed_time\"]\n"
   ]
  },
  {
   "cell_type": "code",
   "execution_count": 39,
   "metadata": {},
   "outputs": [],
   "source": [
    "#function converting delta gain/drop/same\n",
    "def f_gain_drop(i):\n",
    "    if i < 0:\n",
    "        return \"Drop\"\n",
    "    elif i > 0:\n",
    "        return \"Gain\"\n",
    "    else:\n",
    "        return \"Same\""
   ]
  },
  {
   "cell_type": "code",
   "execution_count": 40,
   "metadata": {},
   "outputs": [],
   "source": [
    "#create new column for drop/gain/same\n",
    "df[\"gain_drop_same\"] = df.apply(lambda row: f_gain_drop(row[\"delta\"]),axis=1)"
   ]
  },
  {
   "cell_type": "code",
   "execution_count": 41,
   "metadata": {},
   "outputs": [],
   "source": [
    "#export to csv, with pipe separator\n",
    "#and donot write when blank\n",
    "with open(csv_file, 'w', newline=\"\") as csv_file:\n",
    "    df.to_csv(path_or_buf=csv_file, sep='|', index=False)"
   ]
  }
 ],
 "metadata": {
  "interpreter": {
   "hash": "b3ba2566441a7c06988d0923437866b63cedc61552a5af99d1f4fb67d367b25f"
  },
  "kernelspec": {
   "display_name": "Python 3.8.8 64-bit ('base': conda)",
   "name": "python3"
  },
  "language_info": {
   "codemirror_mode": {
    "name": "ipython",
    "version": 3
   },
   "file_extension": ".py",
   "mimetype": "text/x-python",
   "name": "python",
   "nbconvert_exporter": "python",
   "pygments_lexer": "ipython3",
   "version": "3.8.8"
  },
  "orig_nbformat": 4
 },
 "nbformat": 4,
 "nbformat_minor": 2
}
