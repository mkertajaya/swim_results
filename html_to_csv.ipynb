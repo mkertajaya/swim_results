{
 "cells": [
  {
   "cell_type": "code",
   "execution_count": 55,
   "source": [
    "import os\r\n",
    "import requests\r\n",
    "import csv\r\n",
    "import numpy as np\r\n",
    "import pandas as pd"
   ],
   "outputs": [],
   "metadata": {}
  },
  {
   "cell_type": "code",
   "execution_count": 2,
   "source": [
    "#change these\r\n",
    "filename = \"21-202rw\"\r\n",
    "html_ = f\"{filename}.html\"\r\n",
    "csv_ =  f\"{filename}.csv\"\r\n",
    "meet = \"2021 PV Maryland State LC Championship - 6/4/2021 to 6/6/2021\""
   ],
   "outputs": [],
   "metadata": {}
  },
  {
   "cell_type": "code",
   "execution_count": 3,
   "source": [
    "# Path\r\n",
    "data_folder = \"data\"\r\n",
    " \r\n",
    "# Join various path components\r\n",
    "html_file = os.path.join(data_folder, html_)\r\n",
    "print(html_file)"
   ],
   "outputs": [
    {
     "output_type": "stream",
     "name": "stdout",
     "text": [
      "data\\21-202rw.html\n"
     ]
    }
   ],
   "metadata": {}
  },
  {
   "cell_type": "code",
   "execution_count": 4,
   "source": [
    "#Creating an output file in writing mode\r\n",
    "csv_file = os.path.join(data_folder,csv_)\r\n",
    "\r\n",
    "#csv header\r\n",
    "header = [\"meet\", \"event\", \"rank\", \"name\", \"age\", \"team\", \"seed\", \"finals\"]\r\n",
    "#assign 'delete' event for delition later\r\n",
    "event = \"delete\"\r\n",
    "\r\n",
    "with open(csv_file, 'w', encoding='UTF8') as f:\r\n",
    "    #create a writer\r\n",
    "    writer = csv.writer(f, delimiter = \"|\")\r\n",
    "    # write the header\r\n",
    "    writer.writerow(header)\r\n",
    "    #iterate html\r\n",
    "    with open(html_file, \"r\") as line:\r\n",
    "        line_string = line.readlines()\r\n",
    "        #this will assign event column\r\n",
    "        for each_line in line_string:\r\n",
    "            if each_line[0:2] == \"<b\":\r\n",
    "                event = each_line.replace(\"<b>\", \"\")\\\r\n",
    "                                 .replace(\"</b>\", \"\")\\\r\n",
    "                                 .replace(\"&amp;\", \"&\")\\\r\n",
    "                                 .replace(\"\\n\", \" \")\\\r\n",
    "                                 .rstrip()\r\n",
    "            else:\r\n",
    "                #assign each column and strip right spaces\r\n",
    "                rank = each_line[0:4].replace(\" \", \"\").replace(\"=\", \"\").rstrip()\r\n",
    "                name = each_line[4:29].rstrip()\r\n",
    "                age = each_line[28:33].replace(\" \",\"\").rstrip()\r\n",
    "                team = each_line[33:50].replace(\" \",\"\").rstrip()\r\n",
    "                seed = each_line[51:65].replace(\" \",\"\").rstrip()\r\n",
    "                finals = each_line[61:80].replace(\" \",\"\").rstrip()\r\n",
    "                #this will not write uncessary rows\r\n",
    "                if rank != \"\" and event != 'delete'\\\r\n",
    "                   and seed != \"\" and finals != \"\":\r\n",
    "                    writer.writerow([meet, event, rank, name, age, team, seed, finals])\r\n",
    "\r\n"
   ],
   "outputs": [],
   "metadata": {}
  },
  {
   "cell_type": "code",
   "execution_count": 5,
   "source": [
    "#read csv to data frame\r\n",
    "df = pd.read_csv(csv_file, sep=\"|\"  , engine=\"python\")"
   ],
   "outputs": [],
   "metadata": {}
  },
  {
   "cell_type": "code",
   "execution_count": 46,
   "source": [
    "#filtering examples\r\n",
    "filt = (df[\"name\"] == \"Kertajaya, Evelyn\") #&  (df[\"rank\"] == \"12\")\r\n",
    "#get data\r\n",
    "df[filt]"
   ],
   "outputs": [
    {
     "output_type": "execute_result",
     "data": {
      "text/html": [
       "<div>\n",
       "<style scoped>\n",
       "    .dataframe tbody tr th:only-of-type {\n",
       "        vertical-align: middle;\n",
       "    }\n",
       "\n",
       "    .dataframe tbody tr th {\n",
       "        vertical-align: top;\n",
       "    }\n",
       "\n",
       "    .dataframe thead th {\n",
       "        text-align: right;\n",
       "    }\n",
       "</style>\n",
       "<table border=\"1\" class=\"dataframe\">\n",
       "  <thead>\n",
       "    <tr style=\"text-align: right;\">\n",
       "      <th></th>\n",
       "      <th>meet</th>\n",
       "      <th>event</th>\n",
       "      <th>rank</th>\n",
       "      <th>name</th>\n",
       "      <th>age</th>\n",
       "      <th>team</th>\n",
       "      <th>seed</th>\n",
       "      <th>finals</th>\n",
       "      <th>seed_time</th>\n",
       "    </tr>\n",
       "  </thead>\n",
       "  <tbody>\n",
       "    <tr>\n",
       "      <th>226</th>\n",
       "      <td>2021 PV Maryland State LC Championship - 6/4/2...</td>\n",
       "      <td>Girls 11-12 50 LC Meter Freestyle</td>\n",
       "      <td>36</td>\n",
       "      <td>Kertajaya, Evelyn</td>\n",
       "      <td>12</td>\n",
       "      <td>RMSC!-PV</td>\n",
       "      <td>34.32</td>\n",
       "      <td>34.42</td>\n",
       "      <td>34.32</td>\n",
       "    </tr>\n",
       "    <tr>\n",
       "      <th>326</th>\n",
       "      <td>2021 PV Maryland State LC Championship - 6/4/2...</td>\n",
       "      <td>Girls 11-12 50 LC Meter Breaststroke</td>\n",
       "      <td>12</td>\n",
       "      <td>Kertajaya, Evelyn</td>\n",
       "      <td>12</td>\n",
       "      <td>RMSC!-PV</td>\n",
       "      <td>43.68</td>\n",
       "      <td>42.75</td>\n",
       "      <td>43.68</td>\n",
       "    </tr>\n",
       "    <tr>\n",
       "      <th>352</th>\n",
       "      <td>2021 PV Maryland State LC Championship - 6/4/2...</td>\n",
       "      <td>Girls 11-12 100 LC Meter Breaststroke</td>\n",
       "      <td>16</td>\n",
       "      <td>Kertajaya, Evelyn</td>\n",
       "      <td>12</td>\n",
       "      <td>RMSC!-PV</td>\n",
       "      <td>1:45.62</td>\n",
       "      <td>1:35.43</td>\n",
       "      <td>105.62</td>\n",
       "    </tr>\n",
       "    <tr>\n",
       "      <th>392</th>\n",
       "      <td>2021 PV Maryland State LC Championship - 6/4/2...</td>\n",
       "      <td>Girls 11-12 50 LC Meter Butterfly</td>\n",
       "      <td>23</td>\n",
       "      <td>Kertajaya, Evelyn</td>\n",
       "      <td>12</td>\n",
       "      <td>RMSC!-PV</td>\n",
       "      <td>39.43</td>\n",
       "      <td>38.00</td>\n",
       "      <td>39.43</td>\n",
       "    </tr>\n",
       "  </tbody>\n",
       "</table>\n",
       "</div>"
      ],
      "text/plain": [
       "                                                  meet  \\\n",
       "226  2021 PV Maryland State LC Championship - 6/4/2...   \n",
       "326  2021 PV Maryland State LC Championship - 6/4/2...   \n",
       "352  2021 PV Maryland State LC Championship - 6/4/2...   \n",
       "392  2021 PV Maryland State LC Championship - 6/4/2...   \n",
       "\n",
       "                                     event rank               name  age  \\\n",
       "226      Girls 11-12 50 LC Meter Freestyle   36  Kertajaya, Evelyn   12   \n",
       "326   Girls 11-12 50 LC Meter Breaststroke   12  Kertajaya, Evelyn   12   \n",
       "352  Girls 11-12 100 LC Meter Breaststroke   16  Kertajaya, Evelyn   12   \n",
       "392      Girls 11-12 50 LC Meter Butterfly   23  Kertajaya, Evelyn   12   \n",
       "\n",
       "         team     seed   finals seed_time  \n",
       "226  RMSC!-PV    34.32    34.42     34.32  \n",
       "326  RMSC!-PV    43.68    42.75     43.68  \n",
       "352  RMSC!-PV  1:45.62  1:35.43    105.62  \n",
       "392  RMSC!-PV    39.43    38.00     39.43  "
      ]
     },
     "metadata": {},
     "execution_count": 46
    }
   ],
   "metadata": {}
  },
  {
   "cell_type": "code",
   "execution_count": 66,
   "source": [
    "#this cell is cleaning up seed and finals time\r\n",
    "\r\n",
    "#filter NT from final\r\n",
    "filt_NT = (df[\"seed\"] == \"NT\")\r\n",
    "#update dq to 00.00\r\n",
    "df[\"seed\"][filt_NT] = \"00.00\"\r\n",
    "\r\n",
    "#filter DQ from final\r\n",
    "filt_DQ = (df[\"finals\"] == \"DQ\")\r\n",
    "#update dq to 00.00\r\n",
    "df[\"finals\"][filt_DQ] = \"00.00\""
   ],
   "outputs": [
    {
     "output_type": "stream",
     "name": "stderr",
     "text": [
      "<ipython-input-66-0421b20935eb>:6: SettingWithCopyWarning: \n",
      "A value is trying to be set on a copy of a slice from a DataFrame\n",
      "\n",
      "See the caveats in the documentation: https://pandas.pydata.org/pandas-docs/stable/user_guide/indexing.html#returning-a-view-versus-a-copy\n",
      "  df[\"seed\"][filt_NT] = \"00.00\"\n",
      "<ipython-input-66-0421b20935eb>:11: SettingWithCopyWarning: \n",
      "A value is trying to be set on a copy of a slice from a DataFrame\n",
      "\n",
      "See the caveats in the documentation: https://pandas.pydata.org/pandas-docs/stable/user_guide/indexing.html#returning-a-view-versus-a-copy\n",
      "  df[\"finals\"][filt_DQ] = \"00.00\"\n"
     ]
    }
   ],
   "metadata": {}
  },
  {
   "cell_type": "code",
   "execution_count": 20,
   "source": [
    "df[\"seed\"].head()"
   ],
   "outputs": [
    {
     "output_type": "execute_result",
     "data": {
      "text/plain": [
       "0    33.04\n",
       "1    32.66\n",
       "2    34.25\n",
       "3    33.27\n",
       "4    34.62\n",
       "Name: seed, dtype: object"
      ]
     },
     "metadata": {},
     "execution_count": 20
    }
   ],
   "metadata": {}
  },
  {
   "cell_type": "code",
   "execution_count": 41,
   "source": [
    "#craete function to convert time string to float\r\n",
    "def f_totime(i):\r\n",
    "    #find minute indicator\r\n",
    "    minute_ind = i.find(':')\r\n",
    "    if (minute_ind != -1):\r\n",
    "        i = float(i[0:minute_ind]) * 60 + float(i[minute_ind:].replace(\":\", \"\"))\r\n",
    "        return i\r\n",
    "    else:\r\n",
    "        return i\r\n",
    "\r\n",
    "# #testing fuction\r\n",
    "# i = \"10:29.05\"\r\n",
    "\r\n",
    "# result = f_totime(i)\r\n",
    "# print(result)"
   ],
   "outputs": [],
   "metadata": {}
  },
  {
   "cell_type": "code",
   "execution_count": 67,
   "source": [
    "#create new column from seed\r\n",
    "df[\"seed_time\"] = df.apply(lambda row: f_totime(row[\"seed\"]),axis=1)\r\n",
    "#create new column from final\r\n",
    "df[\"finals_time\"] = df.apply(lambda row: f_totime(row[\"finals\"]),axis=1)"
   ],
   "outputs": [],
   "metadata": {}
  },
  {
   "cell_type": "code",
   "execution_count": 68,
   "source": [
    "#change data type for seed time and final time\r\n",
    "df[\"finals_time\"] = df[\"finals_time\"].astype(np.float16)\r\n",
    "\r\n",
    "df[\"seed_time\"] = df[\"seed_time\"].astype(np.float16)\r\n",
    "\r\n",
    "#create delta column\r\n",
    "df[\"delta\"] = df[\"finals_time\"] - df[\"seed_time\"]\r\n"
   ],
   "outputs": [],
   "metadata": {}
  },
  {
   "cell_type": "code",
   "execution_count": 72,
   "source": [
    "#function converting delta gain/drop/same\r\n",
    "def f_gain_drop(i):\r\n",
    "    if i < 0:\r\n",
    "        return \"Gain\"\r\n",
    "    elif i > 0:\r\n",
    "        return \"Drop\"\r\n",
    "    else:\r\n",
    "        return \"Same\""
   ],
   "outputs": [],
   "metadata": {}
  },
  {
   "cell_type": "code",
   "execution_count": 73,
   "source": [
    "#create new column\r\n",
    "df[\"gain_drop_same\"] = df.apply(lambda row: f_gain_drop(row[\"delta\"]),axis=1)"
   ],
   "outputs": [],
   "metadata": {}
  },
  {
   "cell_type": "code",
   "execution_count": 74,
   "source": [
    "#filtering examples\r\n",
    "filt = (df[\"name\"] == \"Kertajaya, Evelyn\") #&  (df[\"rank\"] == \"12\")\r\n",
    "#get data\r\n",
    "df[filt]"
   ],
   "outputs": [
    {
     "output_type": "execute_result",
     "data": {
      "text/html": [
       "<div>\n",
       "<style scoped>\n",
       "    .dataframe tbody tr th:only-of-type {\n",
       "        vertical-align: middle;\n",
       "    }\n",
       "\n",
       "    .dataframe tbody tr th {\n",
       "        vertical-align: top;\n",
       "    }\n",
       "\n",
       "    .dataframe thead th {\n",
       "        text-align: right;\n",
       "    }\n",
       "</style>\n",
       "<table border=\"1\" class=\"dataframe\">\n",
       "  <thead>\n",
       "    <tr style=\"text-align: right;\">\n",
       "      <th></th>\n",
       "      <th>meet</th>\n",
       "      <th>event</th>\n",
       "      <th>rank</th>\n",
       "      <th>name</th>\n",
       "      <th>age</th>\n",
       "      <th>team</th>\n",
       "      <th>seed</th>\n",
       "      <th>finals</th>\n",
       "      <th>seed_time</th>\n",
       "      <th>finals_time</th>\n",
       "      <th>delta</th>\n",
       "      <th>gain_drop_same</th>\n",
       "    </tr>\n",
       "  </thead>\n",
       "  <tbody>\n",
       "    <tr>\n",
       "      <th>226</th>\n",
       "      <td>2021 PV Maryland State LC Championship - 6/4/2...</td>\n",
       "      <td>Girls 11-12 50 LC Meter Freestyle</td>\n",
       "      <td>36</td>\n",
       "      <td>Kertajaya, Evelyn</td>\n",
       "      <td>12</td>\n",
       "      <td>RMSC!-PV</td>\n",
       "      <td>34.32</td>\n",
       "      <td>34.42</td>\n",
       "      <td>34.3125</td>\n",
       "      <td>34.40625</td>\n",
       "      <td>0.09375</td>\n",
       "      <td>Drop</td>\n",
       "    </tr>\n",
       "    <tr>\n",
       "      <th>326</th>\n",
       "      <td>2021 PV Maryland State LC Championship - 6/4/2...</td>\n",
       "      <td>Girls 11-12 50 LC Meter Breaststroke</td>\n",
       "      <td>12</td>\n",
       "      <td>Kertajaya, Evelyn</td>\n",
       "      <td>12</td>\n",
       "      <td>RMSC!-PV</td>\n",
       "      <td>43.68</td>\n",
       "      <td>42.75</td>\n",
       "      <td>43.6875</td>\n",
       "      <td>42.75000</td>\n",
       "      <td>-0.93750</td>\n",
       "      <td>Gain</td>\n",
       "    </tr>\n",
       "    <tr>\n",
       "      <th>352</th>\n",
       "      <td>2021 PV Maryland State LC Championship - 6/4/2...</td>\n",
       "      <td>Girls 11-12 100 LC Meter Breaststroke</td>\n",
       "      <td>16</td>\n",
       "      <td>Kertajaya, Evelyn</td>\n",
       "      <td>12</td>\n",
       "      <td>RMSC!-PV</td>\n",
       "      <td>1:45.62</td>\n",
       "      <td>1:35.43</td>\n",
       "      <td>105.6250</td>\n",
       "      <td>95.43750</td>\n",
       "      <td>-10.18750</td>\n",
       "      <td>Gain</td>\n",
       "    </tr>\n",
       "    <tr>\n",
       "      <th>392</th>\n",
       "      <td>2021 PV Maryland State LC Championship - 6/4/2...</td>\n",
       "      <td>Girls 11-12 50 LC Meter Butterfly</td>\n",
       "      <td>23</td>\n",
       "      <td>Kertajaya, Evelyn</td>\n",
       "      <td>12</td>\n",
       "      <td>RMSC!-PV</td>\n",
       "      <td>39.43</td>\n",
       "      <td>38.00</td>\n",
       "      <td>39.4375</td>\n",
       "      <td>38.00000</td>\n",
       "      <td>-1.43750</td>\n",
       "      <td>Gain</td>\n",
       "    </tr>\n",
       "  </tbody>\n",
       "</table>\n",
       "</div>"
      ],
      "text/plain": [
       "                                                  meet  \\\n",
       "226  2021 PV Maryland State LC Championship - 6/4/2...   \n",
       "326  2021 PV Maryland State LC Championship - 6/4/2...   \n",
       "352  2021 PV Maryland State LC Championship - 6/4/2...   \n",
       "392  2021 PV Maryland State LC Championship - 6/4/2...   \n",
       "\n",
       "                                     event rank               name  age  \\\n",
       "226      Girls 11-12 50 LC Meter Freestyle   36  Kertajaya, Evelyn   12   \n",
       "326   Girls 11-12 50 LC Meter Breaststroke   12  Kertajaya, Evelyn   12   \n",
       "352  Girls 11-12 100 LC Meter Breaststroke   16  Kertajaya, Evelyn   12   \n",
       "392      Girls 11-12 50 LC Meter Butterfly   23  Kertajaya, Evelyn   12   \n",
       "\n",
       "         team     seed   finals  seed_time  finals_time     delta  \\\n",
       "226  RMSC!-PV    34.32    34.42    34.3125     34.40625   0.09375   \n",
       "326  RMSC!-PV    43.68    42.75    43.6875     42.75000  -0.93750   \n",
       "352  RMSC!-PV  1:45.62  1:35.43   105.6250     95.43750 -10.18750   \n",
       "392  RMSC!-PV    39.43    38.00    39.4375     38.00000  -1.43750   \n",
       "\n",
       "    gain_drop_same  \n",
       "226           Drop  \n",
       "326           Gain  \n",
       "352           Gain  \n",
       "392           Gain  "
      ]
     },
     "metadata": {},
     "execution_count": 74
    }
   ],
   "metadata": {}
  }
 ],
 "metadata": {
  "orig_nbformat": 4,
  "language_info": {
   "name": "python",
   "version": "3.8.8",
   "mimetype": "text/x-python",
   "codemirror_mode": {
    "name": "ipython",
    "version": 3
   },
   "pygments_lexer": "ipython3",
   "nbconvert_exporter": "python",
   "file_extension": ".py"
  },
  "kernelspec": {
   "name": "python3",
   "display_name": "Python 3.8.8 64-bit ('base': conda)"
  },
  "interpreter": {
   "hash": "b3ba2566441a7c06988d0923437866b63cedc61552a5af99d1f4fb67d367b25f"
  }
 },
 "nbformat": 4,
 "nbformat_minor": 2
}